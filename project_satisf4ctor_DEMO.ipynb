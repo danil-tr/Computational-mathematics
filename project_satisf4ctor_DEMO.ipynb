{
 "cells": [
  {
   "cell_type": "markdown",
   "id": "fcb663fc",
   "metadata": {},
   "source": [
    "В нашем проекте мы будем решать 1-мерное уравнение Шредингера для частицы в квантовой яме с бесконечными стенками. Мы будем реализовывать такие методы, как решение дифференциальных уравнений с использованием\n",
    "\n",
    "1)метода Рунге-Кутты четвертого порядка путем определения функции и использования\n",
    "\n",
    "2)метода Ньютона\n",
    "\n",
    "3)метода секущих для повторения значений для получения корня функции, а также решения для граничных условий\n",
    "\n",
    "Затем, используем данные методы чтобы решить уравнение Шредингера для различных потенциалов в квантовой яме с бесконечными стенками и получаем новые значения собственной энергии, соответствующие каждому потенциалу.\n",
    "\n",
    "1-й потенциал: потенциал квантовой ямы, 2-й потенциал: гармонический потенциал в квантовой яме, 3-й потенциал: потенциал конечной квантовой ямы, 4-й потенциал: ангармонический потенциал в квантовой яме"
   ]
  },
  {
   "cell_type": "code",
   "execution_count": 3,
   "id": "9cc5c29e",
   "metadata": {},
   "outputs": [],
   "source": [
    "import numpy as np\n",
    "import matplotlib.pyplot as plt\n",
    "from IPython.display import Image # для загрузки фотографий\n",
    "%matplotlib inline"
   ]
  },
  {
   "cell_type": "markdown",
   "id": "19039750",
   "metadata": {},
   "source": [
    "1-мерное уравнение Шредингера (eq1): $$\n",
    "\\frac{-\\hbar^2}{2m} \\frac{d^2\\psi}{dx^2} + V(x)\\psi(x) = E\\psi(x)\n",
    "$$\n",
    "Где потенциал квантовой ямы:\n",
    "$$ V_x = \\begin{cases} 0 & \\text{if } -a < x < +a, \\\\ \n",
    "\\infty  & \\text{if } |x| > a, \\end{cases} \n",
    "$$"
   ]
  },
  {
   "cell_type": "code",
   "execution_count": 6,
   "id": "a1c76c19",
   "metadata": {},
   "outputs": [],
   "source": [
    "#Табличные значения\n",
    "m=9.1094e-31 #масса электрона\n",
    "hbar=1.05446e-34 #приведённая постоянная планка\n",
    "echarge=1.6022e-19 #заряд электрона\n",
    "a=5e-11 #полуширина квантовой ямы\n",
    "\n",
    "#параметры для Рунге-Кутты\n",
    "N=1000 #количество точек\n",
    "h=2*a/N #шаг\n",
    "xpoints = np.arange(-a, a, h) #массив точек с шагом h"
   ]
  },
  {
   "cell_type": "markdown",
   "id": "8413484a",
   "metadata": {},
   "source": [
    "Нахождение энергии состояния:"
   ]
  },
  {
   "cell_type": "code",
   "execution_count": 10,
   "id": "1373e35e",
   "metadata": {},
   "outputs": [],
   "source": [
    "def V(x):\n",
    "    \"\"\"Потенциальная функция для уравнения Шредингера для квантовой ямы\n",
    "    Inputs: (x) положение частицы\n",
    "    Output: (V) потенциал в этой точке\"\"\"\n",
    "    return 0.0 #потенциал везде 0"
   ]
  },
  {
   "cell_type": "code",
   "execution_count": null,
   "id": "165720ed",
   "metadata": {},
   "outputs": [],
   "source": []
  }
 ],
 "metadata": {
  "kernelspec": {
   "display_name": "Python 3",
   "language": "python",
   "name": "python3"
  },
  "language_info": {
   "codemirror_mode": {
    "name": "ipython",
    "version": 3
   },
   "file_extension": ".py",
   "mimetype": "text/x-python",
   "name": "python",
   "nbconvert_exporter": "python",
   "pygments_lexer": "ipython3",
   "version": "3.8.8"
  }
 },
 "nbformat": 4,
 "nbformat_minor": 5
}
